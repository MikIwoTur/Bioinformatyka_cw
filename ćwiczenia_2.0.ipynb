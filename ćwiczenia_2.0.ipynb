{
 "cells": [
  {
   "cell_type": "code",
   "execution_count": null,
   "id": "5fd006b8",
   "metadata": {},
   "outputs": [],
   "source": [
    "# plik 0"
   ]
  },
  {
   "cell_type": "code",
   "execution_count": null,
   "id": "f2311593",
   "metadata": {},
   "outputs": [],
   "source": [
    "    # zadanie Markdown"
   ]
  },
  {
   "cell_type": "markdown",
   "id": "deff74e4",
   "metadata": {},
   "source": [
    "$ \\phi=\\sum^{10}_{n-1} \\left ( {\\frac {\\left ( {e - 1}^{n} \\right )} {e}} \\right ) $"
   ]
  },
  {
   "cell_type": "code",
   "execution_count": null,
   "id": "0e438345",
   "metadata": {},
   "outputs": [],
   "source": []
  },
  {
   "cell_type": "code",
   "execution_count": 9,
   "id": "fd6f750a",
   "metadata": {},
   "outputs": [],
   "source": [
    "    # Zadanie %pdoc "
   ]
  },
  {
   "cell_type": "code",
   "execution_count": 16,
   "id": "31e591b7",
   "metadata": {},
   "outputs": [],
   "source": [
    "%pdoc print.__doc__ "
   ]
  },
  {
   "cell_type": "code",
   "execution_count": 19,
   "id": "6ae2898e",
   "metadata": {},
   "outputs": [],
   "source": [
    "import numpy as np"
   ]
  },
  {
   "cell_type": "code",
   "execution_count": 25,
   "id": "831905a7",
   "metadata": {},
   "outputs": [],
   "source": [
    "np.stack??"
   ]
  },
  {
   "cell_type": "code",
   "execution_count": null,
   "id": "fc947fcf",
   "metadata": {},
   "outputs": [],
   "source": [
    "        #Pojedynczy pytajnik jest w stanie wyświetlić nam właściwości danej funkcji,\n",
    "        #a podwójny pytajnik zapewnia tą samą funkcje z wytłuszczeniem najważniejszych elemntów"
   ]
  },
  {
   "cell_type": "code",
   "execution_count": 59,
   "id": "0b7761f3",
   "metadata": {},
   "outputs": [],
   "source": [
    "    # Zadanie %time i %timeit"
   ]
  },
  {
   "cell_type": "code",
   "execution_count": null,
   "id": "cbf3fdaa",
   "metadata": {},
   "outputs": [],
   "source": [
    "found = 99 in values"
   ]
  },
  {
   "cell_type": "code",
   "execution_count": 30,
   "id": "cd03633b",
   "metadata": {},
   "outputs": [],
   "source": [
    "found = False\n",
    "\n",
    "for value in values:\n",
    "    \n",
    "    if value == 99:\n",
    "        \n",
    "        found = True\n",
    "        \n",
    "        break"
   ]
  },
  {
   "cell_type": "code",
   "execution_count": 65,
   "id": "e90e52c2",
   "metadata": {},
   "outputs": [
    {
     "name": "stdout",
     "output_type": "stream",
     "text": [
      "30.1 ns ± 9.82 ns per loop (mean ± std. dev. of 100 runs, 10 loops each)\n"
     ]
    }
   ],
   "source": [
    "%timeit -r 100 -n 10 found"
   ]
  },
  {
   "cell_type": "code",
   "execution_count": 66,
   "id": "14d7d689",
   "metadata": {},
   "outputs": [],
   "source": [
    "    # Zadanie %run"
   ]
  },
  {
   "cell_type": "code",
   "execution_count": 82,
   "id": "dd61d87f",
   "metadata": {},
   "outputs": [
    {
     "name": "stdout",
     "output_type": "stream",
     "text": [
      "Witaj Mikołaj!\n",
      "CPU times: user 8 µs, sys: 2 µs, total: 10 µs\n",
      "Wall time: 55.1 µs\n",
      "10\n"
     ]
    }
   ],
   "source": [
    "%run -i script.py\n",
    "%time my_sum\n",
    "print(my_sum)\n",
    "\n",
    "        # zmianna my_sum jest sumą snu i zanjduje się w pliku script.py"
   ]
  },
  {
   "cell_type": "code",
   "execution_count": 83,
   "id": "d4473d21",
   "metadata": {},
   "outputs": [],
   "source": [
    "    # Zadanie %load"
   ]
  },
  {
   "cell_type": "code",
   "execution_count": null,
   "id": "2c59fea8",
   "metadata": {},
   "outputs": [],
   "source": [
    "# %load -s add script.py\n",
    "def add(x, y):\n",
    "    \n",
    "    s = x + y\n",
    "\n",
    "    return s\n"
   ]
  },
  {
   "cell_type": "code",
   "execution_count": 89,
   "id": "0fa72378",
   "metadata": {},
   "outputs": [],
   "source": [
    "    # Zadanie %%bash"
   ]
  },
  {
   "cell_type": "code",
   "execution_count": 99,
   "id": "99fbc4cb",
   "metadata": {},
   "outputs": [
    {
     "name": "stdout",
     "output_type": "stream",
     "text": [
      "Kolejna liczba: 0\n",
      "Kolejna liczba: 1\n",
      "Kolejna liczba: 2\n",
      "Kolejna liczba: 3\n",
      "Kolejna liczba: 4\n",
      "Kolejna liczba: 5\n"
     ]
    }
   ],
   "source": [
    "%%bash\n",
    "for i in {0..5}\n",
    "do\n",
    "    echo \"Kolejna liczba: ${i}\"\n",
    "done"
   ]
  },
  {
   "cell_type": "code",
   "execution_count": 109,
   "id": "90d0720e",
   "metadata": {},
   "outputs": [],
   "source": [
    "%%capture proc\n",
    "%%bash\n",
    "for i in {0..5}\n",
    "do\n",
    "    echo \"Kolejna liczba: ${i}\"\n",
    "done"
   ]
  },
  {
   "cell_type": "code",
   "execution_count": 110,
   "id": "ee5153c4",
   "metadata": {},
   "outputs": [
    {
     "name": "stdout",
     "output_type": "stream",
     "text": [
      "Kolejna liczba: 0\n",
      "Kolejna liczba: 1\n",
      "Kolejna liczba: 2\n",
      "Kolejna liczba: 3\n",
      "Kolejna liczba: 4\n",
      "Kolejna liczba: 5\n",
      "\n"
     ]
    }
   ],
   "source": [
    "print(proc)"
   ]
  },
  {
   "cell_type": "code",
   "execution_count": 111,
   "id": "bc048dc3",
   "metadata": {},
   "outputs": [],
   "source": [
    "    #Zadanie !, !!"
   ]
  },
  {
   "cell_type": "code",
   "execution_count": 112,
   "id": "6e44edc0",
   "metadata": {},
   "outputs": [
    {
     "name": "stdout",
     "output_type": "stream",
     "text": [
      "Hej!\r\n"
     ]
    }
   ],
   "source": [
    "! echo \"Hej!\""
   ]
  },
  {
   "cell_type": "code",
   "execution_count": 114,
   "id": "af2e284c",
   "metadata": {},
   "outputs": [
    {
     "name": "stdout",
     "output_type": "stream",
     "text": [
      "/Users/mikolajturczyniak\n",
      "\n",
      "lub...\n",
      "\n",
      "/Users/mikolajturczyniak\n"
     ]
    }
   ],
   "source": [
    "! echo $PWD\n",
    "\n",
    "print('\\nlub...\\n')\n",
    "\n",
    "! echo ${PWD}\n",
    "\n"
   ]
  },
  {
   "cell_type": "code",
   "execution_count": 115,
   "id": "1950c066",
   "metadata": {},
   "outputs": [
    {
     "name": "stdout",
     "output_type": "stream",
     "text": [
      "Hej\r\n"
     ]
    }
   ],
   "source": [
    "PWD = 'Hej'\n",
    "\n",
    "! echo $PWD"
   ]
  },
  {
   "cell_type": "code",
   "execution_count": 116,
   "id": "f77c067f",
   "metadata": {},
   "outputs": [
    {
     "name": "stdout",
     "output_type": "stream",
     "text": [
      "\r\n"
     ]
    }
   ],
   "source": [
    "! echo ${PWD}"
   ]
  },
  {
   "cell_type": "code",
   "execution_count": 117,
   "id": "af63125f",
   "metadata": {},
   "outputs": [
    {
     "name": "stdout",
     "output_type": "stream",
     "text": [
      "/Users/mikolajturczyniak\r\n"
     ]
    }
   ],
   "source": [
    "! echo ${{PWD}}"
   ]
  },
  {
   "cell_type": "code",
   "execution_count": 118,
   "id": "e413ec78",
   "metadata": {},
   "outputs": [
    {
     "name": "stdout",
     "output_type": "stream",
     "text": [
      "Zmienna Python: Hej\n",
      "Zmienna Bash: /Users/mikolajturczyniak\n"
     ]
    }
   ],
   "source": [
    "! echo \"Zmienna Python: {PWD}\"\n",
    "\n",
    "! echo \"Zmienna Bash: ${{PWD}}\""
   ]
  },
  {
   "cell_type": "code",
   "execution_count": 119,
   "id": "356072b6",
   "metadata": {},
   "outputs": [
    {
     "data": {
      "text/plain": [
       "['/Users/mikolajturczyniak']"
      ]
     },
     "execution_count": 119,
     "metadata": {},
     "output_type": "execute_result"
    }
   ],
   "source": [
    "!! echo ${{PWD}}"
   ]
  },
  {
   "cell_type": "code",
   "execution_count": 120,
   "id": "c7b9a66f",
   "metadata": {},
   "outputs": [
    {
     "name": "stdout",
     "output_type": "stream",
     "text": [
      "['/Users/mikolajturczyniak']\n"
     ]
    }
   ],
   "source": [
    "print(_)"
   ]
  },
  {
   "cell_type": "code",
   "execution_count": 121,
   "id": "ab70661f",
   "metadata": {},
   "outputs": [],
   "source": [
    "stdout_lines = ! echo ${{PWD}}"
   ]
  },
  {
   "cell_type": "code",
   "execution_count": 122,
   "id": "4df68b43",
   "metadata": {},
   "outputs": [
    {
     "name": "stdout",
     "output_type": "stream",
     "text": [
      "['/Users/mikolajturczyniak']\n"
     ]
    }
   ],
   "source": [
    "print(stdout_lines)"
   ]
  },
  {
   "cell_type": "code",
   "execution_count": null,
   "id": "1501361f",
   "metadata": {},
   "outputs": [],
   "source": []
  }
 ],
 "metadata": {
  "celltoolbar": "Raw Cell Format",
  "kernelspec": {
   "display_name": "Python 3 (ipykernel)",
   "language": "python",
   "name": "python3"
  },
  "language_info": {
   "codemirror_mode": {
    "name": "ipython",
    "version": 3
   },
   "file_extension": ".py",
   "mimetype": "text/x-python",
   "name": "python",
   "nbconvert_exporter": "python",
   "pygments_lexer": "ipython3",
   "version": "3.11.4"
  }
 },
 "nbformat": 4,
 "nbformat_minor": 5
}
